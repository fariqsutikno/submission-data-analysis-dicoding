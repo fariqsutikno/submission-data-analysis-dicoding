{
 "cells": [
  {
   "cell_type": "markdown",
   "metadata": {
    "id": "H9wADwK78DCz"
   },
   "source": [
    "# Proyek Analisis Data: E-Commerce Public Dataset\n",
    "- **Nama:** Fariq bin Sutikno\n",
    "- **Email:** fariq.sutikno@gmail.com\n",
    "- **ID Dicoding:** fariqsutikno"
   ]
  },
  {
   "cell_type": "markdown",
   "metadata": {
    "id": "eE0raob58DC0"
   },
   "source": [
    "## Menentukan Pertanyaan Bisnis"
   ]
  },
  {
   "cell_type": "markdown",
   "metadata": {
    "id": "GmQeQ5YF8DC0"
   },
   "source": [
    "- Apakah ada pola khusus dalam jumlah penyewaan? Jam berapa biasanya permintaan melonjak? \n",
    "- Apakah ada pola khusus dalam jumlah penyewaan? Apakah cuaca buruk juga mempengaruhi jumlah permintaan? Apakah hal itu berlaku juga saat hari libur?"
   ]
  },
  {
   "cell_type": "markdown",
   "metadata": {
    "id": "H-z4QGlO8DC1"
   },
   "source": [
    "## Import Semua Packages/Library yang Digunakan"
   ]
  },
  {
   "cell_type": "code",
   "execution_count": 35,
   "metadata": {
    "id": "FVYwaObI8DC1"
   },
   "outputs": [],
   "source": [
    "import numpy as np\n",
    "import pandas as pd\n",
    "import matplotlib.pyplot as plt\n",
    "import seaborn as sns"
   ]
  },
  {
   "cell_type": "markdown",
   "metadata": {
    "id": "h_Sh51Xy8DC1"
   },
   "source": [
    "## Data Wrangling"
   ]
  },
  {
   "cell_type": "markdown",
   "metadata": {
    "id": "sXU2GBYu8DC1"
   },
   "source": [
    "### Gathering Data"
   ]
  },
  {
   "cell_type": "code",
   "execution_count": 36,
   "metadata": {
    "id": "zjCBk1BI8DC1"
   },
   "outputs": [],
   "source": [
    "hours_data = pd.read_csv(\"data/hour.csv\")"
   ]
  },
  {
   "cell_type": "code",
   "execution_count": 37,
   "metadata": {},
   "outputs": [
    {
     "data": {
      "text/html": [
       "<div>\n",
       "<style scoped>\n",
       "    .dataframe tbody tr th:only-of-type {\n",
       "        vertical-align: middle;\n",
       "    }\n",
       "\n",
       "    .dataframe tbody tr th {\n",
       "        vertical-align: top;\n",
       "    }\n",
       "\n",
       "    .dataframe thead th {\n",
       "        text-align: right;\n",
       "    }\n",
       "</style>\n",
       "<table border=\"1\" class=\"dataframe\">\n",
       "  <thead>\n",
       "    <tr style=\"text-align: right;\">\n",
       "      <th></th>\n",
       "      <th>instant</th>\n",
       "      <th>dteday</th>\n",
       "      <th>season</th>\n",
       "      <th>yr</th>\n",
       "      <th>mnth</th>\n",
       "      <th>hr</th>\n",
       "      <th>holiday</th>\n",
       "      <th>weekday</th>\n",
       "      <th>workingday</th>\n",
       "      <th>weathersit</th>\n",
       "      <th>temp</th>\n",
       "      <th>atemp</th>\n",
       "      <th>hum</th>\n",
       "      <th>windspeed</th>\n",
       "      <th>casual</th>\n",
       "      <th>registered</th>\n",
       "      <th>cnt</th>\n",
       "    </tr>\n",
       "  </thead>\n",
       "  <tbody>\n",
       "    <tr>\n",
       "      <th>0</th>\n",
       "      <td>1</td>\n",
       "      <td>2011-01-01</td>\n",
       "      <td>1</td>\n",
       "      <td>0</td>\n",
       "      <td>1</td>\n",
       "      <td>0</td>\n",
       "      <td>0</td>\n",
       "      <td>6</td>\n",
       "      <td>0</td>\n",
       "      <td>1</td>\n",
       "      <td>0.24</td>\n",
       "      <td>0.2879</td>\n",
       "      <td>0.81</td>\n",
       "      <td>0.0</td>\n",
       "      <td>3</td>\n",
       "      <td>13</td>\n",
       "      <td>16</td>\n",
       "    </tr>\n",
       "    <tr>\n",
       "      <th>1</th>\n",
       "      <td>2</td>\n",
       "      <td>2011-01-01</td>\n",
       "      <td>1</td>\n",
       "      <td>0</td>\n",
       "      <td>1</td>\n",
       "      <td>1</td>\n",
       "      <td>0</td>\n",
       "      <td>6</td>\n",
       "      <td>0</td>\n",
       "      <td>1</td>\n",
       "      <td>0.22</td>\n",
       "      <td>0.2727</td>\n",
       "      <td>0.80</td>\n",
       "      <td>0.0</td>\n",
       "      <td>8</td>\n",
       "      <td>32</td>\n",
       "      <td>40</td>\n",
       "    </tr>\n",
       "    <tr>\n",
       "      <th>2</th>\n",
       "      <td>3</td>\n",
       "      <td>2011-01-01</td>\n",
       "      <td>1</td>\n",
       "      <td>0</td>\n",
       "      <td>1</td>\n",
       "      <td>2</td>\n",
       "      <td>0</td>\n",
       "      <td>6</td>\n",
       "      <td>0</td>\n",
       "      <td>1</td>\n",
       "      <td>0.22</td>\n",
       "      <td>0.2727</td>\n",
       "      <td>0.80</td>\n",
       "      <td>0.0</td>\n",
       "      <td>5</td>\n",
       "      <td>27</td>\n",
       "      <td>32</td>\n",
       "    </tr>\n",
       "    <tr>\n",
       "      <th>3</th>\n",
       "      <td>4</td>\n",
       "      <td>2011-01-01</td>\n",
       "      <td>1</td>\n",
       "      <td>0</td>\n",
       "      <td>1</td>\n",
       "      <td>3</td>\n",
       "      <td>0</td>\n",
       "      <td>6</td>\n",
       "      <td>0</td>\n",
       "      <td>1</td>\n",
       "      <td>0.24</td>\n",
       "      <td>0.2879</td>\n",
       "      <td>0.75</td>\n",
       "      <td>0.0</td>\n",
       "      <td>3</td>\n",
       "      <td>10</td>\n",
       "      <td>13</td>\n",
       "    </tr>\n",
       "    <tr>\n",
       "      <th>4</th>\n",
       "      <td>5</td>\n",
       "      <td>2011-01-01</td>\n",
       "      <td>1</td>\n",
       "      <td>0</td>\n",
       "      <td>1</td>\n",
       "      <td>4</td>\n",
       "      <td>0</td>\n",
       "      <td>6</td>\n",
       "      <td>0</td>\n",
       "      <td>1</td>\n",
       "      <td>0.24</td>\n",
       "      <td>0.2879</td>\n",
       "      <td>0.75</td>\n",
       "      <td>0.0</td>\n",
       "      <td>0</td>\n",
       "      <td>1</td>\n",
       "      <td>1</td>\n",
       "    </tr>\n",
       "  </tbody>\n",
       "</table>\n",
       "</div>"
      ],
      "text/plain": [
       "   instant      dteday  season  yr  mnth  hr  holiday  weekday  workingday  \\\n",
       "0        1  2011-01-01       1   0     1   0        0        6           0   \n",
       "1        2  2011-01-01       1   0     1   1        0        6           0   \n",
       "2        3  2011-01-01       1   0     1   2        0        6           0   \n",
       "3        4  2011-01-01       1   0     1   3        0        6           0   \n",
       "4        5  2011-01-01       1   0     1   4        0        6           0   \n",
       "\n",
       "   weathersit  temp   atemp   hum  windspeed  casual  registered  cnt  \n",
       "0           1  0.24  0.2879  0.81        0.0       3          13   16  \n",
       "1           1  0.22  0.2727  0.80        0.0       8          32   40  \n",
       "2           1  0.22  0.2727  0.80        0.0       5          27   32  \n",
       "3           1  0.24  0.2879  0.75        0.0       3          10   13  \n",
       "4           1  0.24  0.2879  0.75        0.0       0           1    1  "
      ]
     },
     "execution_count": 37,
     "metadata": {},
     "output_type": "execute_result"
    }
   ],
   "source": [
    "hours_data.head()"
   ]
  },
  {
   "cell_type": "markdown",
   "metadata": {
    "id": "FHSiqaZp8DC1"
   },
   "source": [
    "### Assessing Data"
   ]
  },
  {
   "cell_type": "code",
   "execution_count": 38,
   "metadata": {
    "id": "ax-3tEjc9Cj1"
   },
   "outputs": [
    {
     "data": {
      "text/plain": [
       "instant       0\n",
       "dteday        0\n",
       "season        0\n",
       "yr            0\n",
       "mnth          0\n",
       "hr            0\n",
       "holiday       0\n",
       "weekday       0\n",
       "workingday    0\n",
       "weathersit    0\n",
       "temp          0\n",
       "atemp         0\n",
       "hum           0\n",
       "windspeed     0\n",
       "casual        0\n",
       "registered    0\n",
       "cnt           0\n",
       "dtype: int64"
      ]
     },
     "execution_count": 38,
     "metadata": {},
     "output_type": "execute_result"
    }
   ],
   "source": [
    "#Apa ada yang kosong?\n",
    "hours_data.isna().sum()"
   ]
  },
  {
   "cell_type": "code",
   "execution_count": 39,
   "metadata": {},
   "outputs": [
    {
     "name": "stdout",
     "output_type": "stream",
     "text": [
      "<class 'pandas.core.frame.DataFrame'>\n",
      "RangeIndex: 17379 entries, 0 to 17378\n",
      "Data columns (total 17 columns):\n",
      " #   Column      Non-Null Count  Dtype  \n",
      "---  ------      --------------  -----  \n",
      " 0   instant     17379 non-null  int64  \n",
      " 1   dteday      17379 non-null  object \n",
      " 2   season      17379 non-null  int64  \n",
      " 3   yr          17379 non-null  int64  \n",
      " 4   mnth        17379 non-null  int64  \n",
      " 5   hr          17379 non-null  int64  \n",
      " 6   holiday     17379 non-null  int64  \n",
      " 7   weekday     17379 non-null  int64  \n",
      " 8   workingday  17379 non-null  int64  \n",
      " 9   weathersit  17379 non-null  int64  \n",
      " 10  temp        17379 non-null  float64\n",
      " 11  atemp       17379 non-null  float64\n",
      " 12  hum         17379 non-null  float64\n",
      " 13  windspeed   17379 non-null  float64\n",
      " 14  casual      17379 non-null  int64  \n",
      " 15  registered  17379 non-null  int64  \n",
      " 16  cnt         17379 non-null  int64  \n",
      "dtypes: float64(4), int64(12), object(1)\n",
      "memory usage: 2.3+ MB\n",
      "Jumlah duplikat:  0\n"
     ]
    }
   ],
   "source": [
    "#Lihat tipe data? Apa ada yang duplikat?\n",
    "hours_data.info()\n",
    "print(\"Jumlah duplikat: \", hours_data.duplicated().sum())"
   ]
  },
  {
   "cell_type": "markdown",
   "metadata": {
    "id": "EhN5R4hr8DC1"
   },
   "source": [
    "### Cleaning Data"
   ]
  },
  {
   "cell_type": "code",
   "execution_count": 40,
   "metadata": {
    "id": "jVnYpprE9Evz"
   },
   "outputs": [],
   "source": [
    "# Berdasarkan hasil tersebut, kesimpulannya adalah:\n",
    "# Kedua data tidak ada duplikat yang kosong\n",
    "# Namun, permasalahannya adalah kolom \"dteday\" pada kedua data berupa object. Sedangkan yang diinginkan adalah datetime,\n",
    "# Maka, kita mengubah kedua data tersebut menjadi datetime\n",
    "\n",
    "\n",
    "hours_data.dteday = pd.to_datetime(hours_data.dteday)"
   ]
  },
  {
   "cell_type": "code",
   "execution_count": 41,
   "metadata": {},
   "outputs": [
    {
     "name": "stdout",
     "output_type": "stream",
     "text": [
      "<class 'pandas.core.frame.DataFrame'>\n",
      "RangeIndex: 17379 entries, 0 to 17378\n",
      "Data columns (total 17 columns):\n",
      " #   Column      Non-Null Count  Dtype         \n",
      "---  ------      --------------  -----         \n",
      " 0   instant     17379 non-null  int64         \n",
      " 1   dteday      17379 non-null  datetime64[ns]\n",
      " 2   season      17379 non-null  int64         \n",
      " 3   yr          17379 non-null  int64         \n",
      " 4   mnth        17379 non-null  int64         \n",
      " 5   hr          17379 non-null  int64         \n",
      " 6   holiday     17379 non-null  int64         \n",
      " 7   weekday     17379 non-null  int64         \n",
      " 8   workingday  17379 non-null  int64         \n",
      " 9   weathersit  17379 non-null  int64         \n",
      " 10  temp        17379 non-null  float64       \n",
      " 11  atemp       17379 non-null  float64       \n",
      " 12  hum         17379 non-null  float64       \n",
      " 13  windspeed   17379 non-null  float64       \n",
      " 14  casual      17379 non-null  int64         \n",
      " 15  registered  17379 non-null  int64         \n",
      " 16  cnt         17379 non-null  int64         \n",
      "dtypes: datetime64[ns](1), float64(4), int64(12)\n",
      "memory usage: 2.3 MB\n"
     ]
    }
   ],
   "source": [
    "hours_data.info()"
   ]
  },
  {
   "cell_type": "markdown",
   "metadata": {
    "id": "gp-Y6wU38DC1"
   },
   "source": [
    "## Exploratory Data Analysis (EDA)"
   ]
  },
  {
   "cell_type": "markdown",
   "metadata": {
    "id": "MW7WF2kr8DC1"
   },
   "source": [
    "### Explore ..."
   ]
  },
  {
   "cell_type": "code",
   "execution_count": 42,
   "metadata": {
    "id": "e9CQCZjk8DC2"
   },
   "outputs": [
    {
     "data": {
      "text/html": [
       "<div>\n",
       "<style scoped>\n",
       "    .dataframe tbody tr th:only-of-type {\n",
       "        vertical-align: middle;\n",
       "    }\n",
       "\n",
       "    .dataframe tbody tr th {\n",
       "        vertical-align: top;\n",
       "    }\n",
       "\n",
       "    .dataframe thead th {\n",
       "        text-align: right;\n",
       "    }\n",
       "</style>\n",
       "<table border=\"1\" class=\"dataframe\">\n",
       "  <thead>\n",
       "    <tr style=\"text-align: right;\">\n",
       "      <th></th>\n",
       "      <th>count</th>\n",
       "      <th>mean</th>\n",
       "      <th>std</th>\n",
       "      <th>min</th>\n",
       "      <th>25%</th>\n",
       "      <th>50%</th>\n",
       "      <th>75%</th>\n",
       "      <th>max</th>\n",
       "    </tr>\n",
       "    <tr>\n",
       "      <th>hr</th>\n",
       "      <th></th>\n",
       "      <th></th>\n",
       "      <th></th>\n",
       "      <th></th>\n",
       "      <th></th>\n",
       "      <th></th>\n",
       "      <th></th>\n",
       "      <th></th>\n",
       "    </tr>\n",
       "  </thead>\n",
       "  <tbody>\n",
       "    <tr>\n",
       "      <th>0</th>\n",
       "      <td>726.0</td>\n",
       "      <td>53.898072</td>\n",
       "      <td>42.307910</td>\n",
       "      <td>2.0</td>\n",
       "      <td>25.00</td>\n",
       "      <td>40.0</td>\n",
       "      <td>69.00</td>\n",
       "      <td>283.0</td>\n",
       "    </tr>\n",
       "    <tr>\n",
       "      <th>1</th>\n",
       "      <td>724.0</td>\n",
       "      <td>33.375691</td>\n",
       "      <td>33.538727</td>\n",
       "      <td>1.0</td>\n",
       "      <td>11.00</td>\n",
       "      <td>20.0</td>\n",
       "      <td>42.25</td>\n",
       "      <td>168.0</td>\n",
       "    </tr>\n",
       "    <tr>\n",
       "      <th>2</th>\n",
       "      <td>715.0</td>\n",
       "      <td>22.869930</td>\n",
       "      <td>26.578642</td>\n",
       "      <td>1.0</td>\n",
       "      <td>5.00</td>\n",
       "      <td>11.0</td>\n",
       "      <td>28.50</td>\n",
       "      <td>132.0</td>\n",
       "    </tr>\n",
       "    <tr>\n",
       "      <th>3</th>\n",
       "      <td>697.0</td>\n",
       "      <td>11.727403</td>\n",
       "      <td>13.239190</td>\n",
       "      <td>1.0</td>\n",
       "      <td>3.00</td>\n",
       "      <td>6.0</td>\n",
       "      <td>15.00</td>\n",
       "      <td>79.0</td>\n",
       "    </tr>\n",
       "    <tr>\n",
       "      <th>4</th>\n",
       "      <td>697.0</td>\n",
       "      <td>6.352941</td>\n",
       "      <td>4.143818</td>\n",
       "      <td>1.0</td>\n",
       "      <td>3.00</td>\n",
       "      <td>6.0</td>\n",
       "      <td>8.00</td>\n",
       "      <td>28.0</td>\n",
       "    </tr>\n",
       "    <tr>\n",
       "      <th>5</th>\n",
       "      <td>717.0</td>\n",
       "      <td>19.889819</td>\n",
       "      <td>13.200765</td>\n",
       "      <td>1.0</td>\n",
       "      <td>8.00</td>\n",
       "      <td>19.0</td>\n",
       "      <td>29.00</td>\n",
       "      <td>66.0</td>\n",
       "    </tr>\n",
       "    <tr>\n",
       "      <th>6</th>\n",
       "      <td>725.0</td>\n",
       "      <td>76.044138</td>\n",
       "      <td>55.084348</td>\n",
       "      <td>1.0</td>\n",
       "      <td>23.00</td>\n",
       "      <td>76.0</td>\n",
       "      <td>117.00</td>\n",
       "      <td>213.0</td>\n",
       "    </tr>\n",
       "    <tr>\n",
       "      <th>7</th>\n",
       "      <td>727.0</td>\n",
       "      <td>212.064649</td>\n",
       "      <td>161.441936</td>\n",
       "      <td>1.0</td>\n",
       "      <td>55.50</td>\n",
       "      <td>208.0</td>\n",
       "      <td>332.00</td>\n",
       "      <td>596.0</td>\n",
       "    </tr>\n",
       "    <tr>\n",
       "      <th>8</th>\n",
       "      <td>727.0</td>\n",
       "      <td>359.011004</td>\n",
       "      <td>235.189285</td>\n",
       "      <td>5.0</td>\n",
       "      <td>131.50</td>\n",
       "      <td>385.0</td>\n",
       "      <td>559.50</td>\n",
       "      <td>839.0</td>\n",
       "    </tr>\n",
       "    <tr>\n",
       "      <th>9</th>\n",
       "      <td>727.0</td>\n",
       "      <td>219.309491</td>\n",
       "      <td>93.703458</td>\n",
       "      <td>14.0</td>\n",
       "      <td>155.00</td>\n",
       "      <td>216.0</td>\n",
       "      <td>293.00</td>\n",
       "      <td>426.0</td>\n",
       "    </tr>\n",
       "    <tr>\n",
       "      <th>10</th>\n",
       "      <td>727.0</td>\n",
       "      <td>173.668501</td>\n",
       "      <td>102.205413</td>\n",
       "      <td>8.0</td>\n",
       "      <td>106.00</td>\n",
       "      <td>147.0</td>\n",
       "      <td>218.00</td>\n",
       "      <td>539.0</td>\n",
       "    </tr>\n",
       "    <tr>\n",
       "      <th>11</th>\n",
       "      <td>727.0</td>\n",
       "      <td>208.143054</td>\n",
       "      <td>127.495536</td>\n",
       "      <td>10.0</td>\n",
       "      <td>123.00</td>\n",
       "      <td>180.0</td>\n",
       "      <td>256.00</td>\n",
       "      <td>663.0</td>\n",
       "    </tr>\n",
       "    <tr>\n",
       "      <th>12</th>\n",
       "      <td>728.0</td>\n",
       "      <td>253.315934</td>\n",
       "      <td>145.081134</td>\n",
       "      <td>3.0</td>\n",
       "      <td>158.00</td>\n",
       "      <td>229.0</td>\n",
       "      <td>322.25</td>\n",
       "      <td>776.0</td>\n",
       "    </tr>\n",
       "    <tr>\n",
       "      <th>13</th>\n",
       "      <td>729.0</td>\n",
       "      <td>253.661180</td>\n",
       "      <td>148.107657</td>\n",
       "      <td>11.0</td>\n",
       "      <td>154.00</td>\n",
       "      <td>224.0</td>\n",
       "      <td>322.00</td>\n",
       "      <td>760.0</td>\n",
       "    </tr>\n",
       "    <tr>\n",
       "      <th>14</th>\n",
       "      <td>729.0</td>\n",
       "      <td>240.949246</td>\n",
       "      <td>147.271574</td>\n",
       "      <td>12.0</td>\n",
       "      <td>142.00</td>\n",
       "      <td>212.0</td>\n",
       "      <td>303.00</td>\n",
       "      <td>750.0</td>\n",
       "    </tr>\n",
       "    <tr>\n",
       "      <th>15</th>\n",
       "      <td>729.0</td>\n",
       "      <td>251.233196</td>\n",
       "      <td>144.632541</td>\n",
       "      <td>7.0</td>\n",
       "      <td>151.00</td>\n",
       "      <td>227.0</td>\n",
       "      <td>324.00</td>\n",
       "      <td>750.0</td>\n",
       "    </tr>\n",
       "    <tr>\n",
       "      <th>16</th>\n",
       "      <td>730.0</td>\n",
       "      <td>311.983562</td>\n",
       "      <td>148.682618</td>\n",
       "      <td>11.0</td>\n",
       "      <td>207.25</td>\n",
       "      <td>304.5</td>\n",
       "      <td>419.00</td>\n",
       "      <td>783.0</td>\n",
       "    </tr>\n",
       "    <tr>\n",
       "      <th>17</th>\n",
       "      <td>730.0</td>\n",
       "      <td>461.452055</td>\n",
       "      <td>232.656611</td>\n",
       "      <td>15.0</td>\n",
       "      <td>262.25</td>\n",
       "      <td>475.0</td>\n",
       "      <td>604.75</td>\n",
       "      <td>976.0</td>\n",
       "    </tr>\n",
       "    <tr>\n",
       "      <th>18</th>\n",
       "      <td>728.0</td>\n",
       "      <td>425.510989</td>\n",
       "      <td>224.639304</td>\n",
       "      <td>23.0</td>\n",
       "      <td>235.00</td>\n",
       "      <td>418.5</td>\n",
       "      <td>562.25</td>\n",
       "      <td>977.0</td>\n",
       "    </tr>\n",
       "    <tr>\n",
       "      <th>19</th>\n",
       "      <td>728.0</td>\n",
       "      <td>311.523352</td>\n",
       "      <td>161.050359</td>\n",
       "      <td>11.0</td>\n",
       "      <td>174.75</td>\n",
       "      <td>309.5</td>\n",
       "      <td>414.50</td>\n",
       "      <td>743.0</td>\n",
       "    </tr>\n",
       "    <tr>\n",
       "      <th>20</th>\n",
       "      <td>728.0</td>\n",
       "      <td>226.030220</td>\n",
       "      <td>119.670164</td>\n",
       "      <td>11.0</td>\n",
       "      <td>124.00</td>\n",
       "      <td>223.5</td>\n",
       "      <td>303.25</td>\n",
       "      <td>567.0</td>\n",
       "    </tr>\n",
       "    <tr>\n",
       "      <th>21</th>\n",
       "      <td>728.0</td>\n",
       "      <td>172.314560</td>\n",
       "      <td>89.788893</td>\n",
       "      <td>6.0</td>\n",
       "      <td>95.00</td>\n",
       "      <td>173.5</td>\n",
       "      <td>233.00</td>\n",
       "      <td>584.0</td>\n",
       "    </tr>\n",
       "    <tr>\n",
       "      <th>22</th>\n",
       "      <td>728.0</td>\n",
       "      <td>131.335165</td>\n",
       "      <td>69.937782</td>\n",
       "      <td>9.0</td>\n",
       "      <td>76.00</td>\n",
       "      <td>129.0</td>\n",
       "      <td>174.00</td>\n",
       "      <td>502.0</td>\n",
       "    </tr>\n",
       "    <tr>\n",
       "      <th>23</th>\n",
       "      <td>728.0</td>\n",
       "      <td>87.831044</td>\n",
       "      <td>50.846889</td>\n",
       "      <td>2.0</td>\n",
       "      <td>50.00</td>\n",
       "      <td>80.0</td>\n",
       "      <td>121.00</td>\n",
       "      <td>256.0</td>\n",
       "    </tr>\n",
       "  </tbody>\n",
       "</table>\n",
       "</div>"
      ],
      "text/plain": [
       "    count        mean         std   min     25%    50%     75%    max\n",
       "hr                                                                   \n",
       "0   726.0   53.898072   42.307910   2.0   25.00   40.0   69.00  283.0\n",
       "1   724.0   33.375691   33.538727   1.0   11.00   20.0   42.25  168.0\n",
       "2   715.0   22.869930   26.578642   1.0    5.00   11.0   28.50  132.0\n",
       "3   697.0   11.727403   13.239190   1.0    3.00    6.0   15.00   79.0\n",
       "4   697.0    6.352941    4.143818   1.0    3.00    6.0    8.00   28.0\n",
       "5   717.0   19.889819   13.200765   1.0    8.00   19.0   29.00   66.0\n",
       "6   725.0   76.044138   55.084348   1.0   23.00   76.0  117.00  213.0\n",
       "7   727.0  212.064649  161.441936   1.0   55.50  208.0  332.00  596.0\n",
       "8   727.0  359.011004  235.189285   5.0  131.50  385.0  559.50  839.0\n",
       "9   727.0  219.309491   93.703458  14.0  155.00  216.0  293.00  426.0\n",
       "10  727.0  173.668501  102.205413   8.0  106.00  147.0  218.00  539.0\n",
       "11  727.0  208.143054  127.495536  10.0  123.00  180.0  256.00  663.0\n",
       "12  728.0  253.315934  145.081134   3.0  158.00  229.0  322.25  776.0\n",
       "13  729.0  253.661180  148.107657  11.0  154.00  224.0  322.00  760.0\n",
       "14  729.0  240.949246  147.271574  12.0  142.00  212.0  303.00  750.0\n",
       "15  729.0  251.233196  144.632541   7.0  151.00  227.0  324.00  750.0\n",
       "16  730.0  311.983562  148.682618  11.0  207.25  304.5  419.00  783.0\n",
       "17  730.0  461.452055  232.656611  15.0  262.25  475.0  604.75  976.0\n",
       "18  728.0  425.510989  224.639304  23.0  235.00  418.5  562.25  977.0\n",
       "19  728.0  311.523352  161.050359  11.0  174.75  309.5  414.50  743.0\n",
       "20  728.0  226.030220  119.670164  11.0  124.00  223.5  303.25  567.0\n",
       "21  728.0  172.314560   89.788893   6.0   95.00  173.5  233.00  584.0\n",
       "22  728.0  131.335165   69.937782   9.0   76.00  129.0  174.00  502.0\n",
       "23  728.0   87.831044   50.846889   2.0   50.00   80.0  121.00  256.0"
      ]
     },
     "execution_count": 42,
     "metadata": {},
     "output_type": "execute_result"
    }
   ],
   "source": [
    "# Tahun -> Kategori Jam -> Rata-Rata (cnt)\n",
    "hours_data.groupby(by=[\"hr\"]).cnt.describe()"
   ]
  },
  {
   "cell_type": "code",
   "execution_count": 43,
   "metadata": {},
   "outputs": [],
   "source": [
    "weather_map = {\n",
    "    1: 'Cerah',\n",
    "    2: 'Berawan',\n",
    "    3: 'Hujan Ringan',\n",
    "    4: 'Hujan Lebat'\n",
    "}\n",
    "\n",
    "holiday_map = {\n",
    "    0: \"Hari Kerja\",\n",
    "    1: \"Hari Libur\"\n",
    "}\n",
    "\n",
    "hours_data['weathersit'] = hours_data['weathersit'].map(weather_map)\n",
    "hours_data['holiday'] = hours_data['holiday'].map(holiday_map)"
   ]
  },
  {
   "cell_type": "code",
   "execution_count": 44,
   "metadata": {},
   "outputs": [
    {
     "name": "stdout",
     "output_type": "stream",
     "text": [
      "                           count        mean         std   min    25%    50%  \\\n",
      "weathersit   holiday                                                           \n",
      "Berawan      Hari Kerja   4407.0  175.979124  165.584746   1.0  41.00  135.0   \n",
      "             Hari Libur    137.0  148.992701  158.791970   1.0  28.00   80.0   \n",
      "Cerah        Hari Kerja  11072.0  206.126084  190.246731   1.0  47.00  161.0   \n",
      "             Hari Libur    341.0  164.061584  157.813942   1.0  32.00  114.0   \n",
      "Hujan Lebat  Hari Kerja      3.0   74.333333   77.925178  23.0  29.50   36.0   \n",
      "Hujan Ringan Hari Kerja   1397.0  111.848962  134.139738   1.0  21.00   64.0   \n",
      "             Hari Libur     22.0   94.454545  109.768469   2.0  21.75   45.0   \n",
      "\n",
      "                            75%    max  \n",
      "weathersit   holiday                    \n",
      "Berawan      Hari Kerja  257.00  957.0  \n",
      "             Hari Libur  280.00  597.0  \n",
      "Cerah        Hari Kerja  305.00  977.0  \n",
      "             Hari Libur  258.00  712.0  \n",
      "Hujan Lebat  Hari Kerja  100.00  164.0  \n",
      "Hujan Ringan Hari Kerja  153.00  891.0  \n",
      "             Hari Libur  140.75  377.0  \n"
     ]
    }
   ],
   "source": [
    "#Cuaca -> Holiday -> Rata-Rata\n",
    "print(hours_data.groupby([\"weathersit\", \"holiday\"]).cnt.describe())"
   ]
  },
  {
   "cell_type": "markdown",
   "metadata": {
    "id": "zsyZjqak8DC2"
   },
   "source": [
    "## Visualization & Explanatory Analysis"
   ]
  },
  {
   "cell_type": "markdown",
   "metadata": {
    "id": "HZxOiQ6n8DC2"
   },
   "source": [
    "### Pertanyaan 1: Behaviour: Jam Berapa Biasanya Orang Menyewa Sepeda?"
   ]
  },
  {
   "cell_type": "code",
   "execution_count": 45,
   "metadata": {
    "id": "1swJUdAD8DC2"
   },
   "outputs": [
    {
     "data": {
      "image/png": "[encoded data removed]",
      "text/plain": [
       "<Figure size 1200x500 with 1 Axes>"
      ]
     },
     "metadata": {},
     "output_type": "display_data"
    }
   ],
   "source": [
    "hours_mean = hours_data.groupby('hr')['cnt'].mean()\n",
    "colors = ['tab:blue' if val <= 300 else 'tab:orange' for val in hours_mean.values]\n",
    "\n",
    "plt.figure(figsize=(12, 5)) \n",
    "plt.bar(hours_mean.index, hours_mean.values, color=colors, width=0.5)\n",
    "plt.title('Behaviour: Jam Berapa Biasanya Orang Menyewa Sepeda?')\n",
    "plt.xlabel('Jam')\n",
    "plt.ylabel('Jumlah Penyewaan')\n",
    "plt.xticks(hours_mean.index)\n",
    "plt.grid(axis='y', alpha=1)\n",
    "\n",
    "# Menambahkan label di atas setiap batang\n",
    "for i, v in enumerate(hours_mean):\n",
    "    plt.text(i, v, f'{v:.0f}', ha='center', va='bottom')\n",
    "plt.show()"
   ]
  },
  {
   "cell_type": "markdown",
   "metadata": {
    "id": "DgHI7CiU8DC2"
   },
   "source": [
    "### Pertanyaan 2:"
   ]
  },
  {
   "cell_type": "code",
   "execution_count": 46,
   "metadata": {
    "id": "Go0lCsvO8DC2"
   },
   "outputs": [
    {
     "data": {
      "image/png": "[encoded data removed]",
      "text/plain": [
       "<Figure size 640x480 with 1 Axes>"
      ]
     },
     "metadata": {},
     "output_type": "display_data"
    }
   ],
   "source": [
    "\n",
    "sns.barplot(data=hours_data, x=\"weathersit\", y=\"cnt\", hue=\"holiday\", errorbar=None)\n",
    "plt.title('Behaviour: Apakah Cuaca dan Hari Libur Mempengaruhi Jumlah Penyewaan?')\n",
    "plt.xlabel('Cuaca')\n",
    "plt.ylabel('Jumlah Penyewaan')\n",
    "\n",
    "plt.show()"
   ]
  },
  {
   "cell_type": "code",
   "execution_count": 47,
   "metadata": {},
   "outputs": [
    {
     "data": {
      "image/png": "[encoded data removed]",
      "text/plain": [
       "<Figure size 640x480 with 1 Axes>"
      ]
     },
     "metadata": {},
     "output_type": "display_data"
    }
   ],
   "source": [
    "sns.barplot(data=hours_data, x=\"holiday\", y=\"cnt\", errorbar=None)\n",
    "plt.title('Behaviour: Apakah Cuaca dan Hari Libur Mempengaruhi Jumlah Penyewaan?')\n",
    "plt.xlabel('Liburan')\n",
    "plt.ylabel('Jumlah Penyewaan')\n",
    "plt.grid(axis='y', alpha=1)\n",
    "plt.show()"
   ]
  },
  {
   "cell_type": "markdown",
   "metadata": {
    "id": "_WeHlCeX8DC2"
   },
   "source": [
    "## Kesimpulan"
   ]
  },
  {
   "cell_type": "markdown",
   "metadata": {
    "id": "ZTcyR48Y8DC2"
   },
   "source": [
    "Berdasarkan data selama 2 tahun, pada 2011 - 2012, bisa kita tarik kesimpulan sebagai berikut: \n",
    "\n",
    "### Behaviour Penyewa: Angka Penyewaan Melonjak Saat Jam Sibuk\n",
    "**Ini menjawab pertanyaan pertama, yaitu apakah ada pola khusus dalam jumlah penyewaan? Jam berapa biasanya permintaan melonjak?**\n",
    "- Penyewaan sepeda mencapai puncaknya pada jam sibuk, terutama pukul 8 pagi dan antara pukul 4-7 malam. Dengan ini, menunjukkan banyaknya kebutuhan sepeda untuk transport ke tempat kerja.\n",
    "\n",
    "- Permintaan terus meningkat hingga mencapai lebih dari 400 sepeda pada pukul 5-6 sore.\n",
    "\n",
    "- Penurunan permintaan setelah pukul 8 pagi dan peningkatan bertahap mulai pukul 11 siang.\n",
    "\n",
    "- Angka penyewaan pada tengah malam dan dini hari tetap ada. Menunjukkan penyewaan sepeda tetap diminati hingga malam hari. \n",
    "\n",
    "- Semakin malam semakin menurun angkanya, dan mulai naik perlahan pada jam 5 pagi.\n",
    "\n",
    "### Behaviour Penyewa: Cuaca dan Hari Libur Memiliki Pengaruh dalam Jumlah Penyewaan\n",
    "**Ini menjawab pertanyaan kedua, yaitu apakah ada pola khusus dalam jumlah penyewaan? Apakah cuaca buruk juga mempengaruhi jumlah permintaan? Apakah hal itu berlaku juga saat hari libur?**\n",
    "- Permintaan pada hari kerja lebih tinggi daripada hari libur mencapai 20% pada cuaca terang. \n",
    "\n",
    "- Bahkan saat hujan deras, permintaan tetap ada pada hari kerja. Dengan ini, membuktikan bahwa penyewaan sepeda sangat dibutuhkan untuk mobilitas ke tempat kerja.\n",
    "    \n",
    "- Pada setiap perbedaan cuaca, ketika memburuk, akan terjadi penurunan angka permintaan juga. Sebaliknya jika membaik (cerah), maka permintaan akan meningkat juga. Ini menunjukkan bahwa cuaca adalah faktor yang mempengaruhi angka permintaan. Bahkan, di saat liburan dan hujan deras, hampir tidak ada angka permintaan."
   ]
  }
 ],
 "metadata": {
  "colab": {
   "provenance": []
  },
  "kernelspec": {
   "display_name": "Python 3 (ipykernel)",
   "language": "python",
   "name": "python3"
  },
  "language_info": {
   "codemirror_mode": {
    "name": "ipython",
    "version": 3
   },
   "file_extension": ".py",
   "mimetype": "text/x-python",
   "name": "python",
   "nbconvert_exporter": "python",
   "pygments_lexer": "ipython3",
   "version": "3.12.3"
  },
  "vscode": {
   "interpreter": {
    "hash": "972b3bf27e332e87b5379f2791f6ef9dfc79c71018c370b0d7423235e20fe4d7"
   }
  }
 },
 "nbformat": 4,
 "nbformat_minor": 4
}
